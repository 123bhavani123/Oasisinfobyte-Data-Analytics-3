{
 "cells": [
  {
   "cell_type": "code",
   "execution_count": 1,
   "id": "065545f4",
   "metadata": {},
   "outputs": [],
   "source": [
    "import pandas as pd\n",
    "import numpy as np\n",
    "import matplotlib.pyplot as plt\n",
    "from sklearn.impute import SimpleImputer\n",
    "from sklearn.preprocessing import StandardScaler\n",
    "from sklearn.feature_extraction.text import CountVectorizer\n",
    "from sklearn.model_selection import train_test_split\n",
    "from sklearn.preprocessing import RobustScaler"
   ]
  },
  {
   "cell_type": "code",
   "execution_count": 2,
   "id": "5821031d",
   "metadata": {},
   "outputs": [],
   "source": [
    "data = pd.read_csv(\"C:\\\\Users\\Bhavani\\OneDrive\\Desktop\\durga\\Project\\AB_NYC_2019.csv\")\n"
   ]
  },
  {
   "cell_type": "code",
   "execution_count": 3,
   "id": "240ec00e",
   "metadata": {},
   "outputs": [],
   "source": [
    "imputer = SimpleImputer(strategy='mean')\n",
    "numeric_columns = ['latitude', 'longitude', 'price', 'minimum_nights', 'number_of_reviews', \n",
    "                   'reviews_per_month', 'calculated_host_listings_count', 'avalability_365']\n",
    "data[numeric_columns] = imputer.fit_transform(data[numeric_columns])\n"
   ]
  },
  {
   "cell_type": "code",
   "execution_count": 4,
   "id": "1c143719",
   "metadata": {},
   "outputs": [],
   "source": [
    "data_deduplicated = data.drop_duplicates()\n"
   ]
  },
  {
   "cell_type": "code",
   "execution_count": 5,
   "id": "10264381",
   "metadata": {},
   "outputs": [],
   "source": [
    "data_deduplicated.to_csv('cleaned_dataset.csv', index=False)"
   ]
  },
  {
   "cell_type": "code",
   "execution_count": 6,
   "id": "1bcac7d8",
   "metadata": {},
   "outputs": [
    {
     "name": "stdout",
     "output_type": "stream",
     "text": [
      "Dataset Information:\n",
      "<class 'pandas.core.frame.DataFrame'>\n",
      "RangeIndex: 48895 entries, 0 to 48894\n",
      "Data columns (total 16 columns):\n",
      " #   Column                          Non-Null Count  Dtype  \n",
      "---  ------                          --------------  -----  \n",
      " 0   id                              48895 non-null  int64  \n",
      " 1   name                            48879 non-null  object \n",
      " 2   host_id                         48895 non-null  int64  \n",
      " 3   host_name                       48874 non-null  object \n",
      " 4   neighbourhood_group             48895 non-null  object \n",
      " 5   neighbourhood                   48895 non-null  object \n",
      " 6   latitude                        48895 non-null  float64\n",
      " 7   longitude                       48895 non-null  float64\n",
      " 8   room_type                       48895 non-null  object \n",
      " 9   price                           48895 non-null  float64\n",
      " 10  minimum_nights                  48895 non-null  float64\n",
      " 11  number_of_reviews               48895 non-null  float64\n",
      " 12  last_review                     38843 non-null  object \n",
      " 13  reviews_per_month               48895 non-null  float64\n",
      " 14  calculated_host_listings_count  48895 non-null  float64\n",
      " 15  avalability_365                 48895 non-null  float64\n",
      "dtypes: float64(8), int64(2), object(6)\n",
      "memory usage: 6.0+ MB\n",
      "None\n"
     ]
    }
   ],
   "source": [
    "print(\"Dataset Information:\")\n",
    "print(data.info())"
   ]
  },
  {
   "cell_type": "code",
   "execution_count": 7,
   "id": "e86667f5",
   "metadata": {},
   "outputs": [
    {
     "name": "stdout",
     "output_type": "stream",
     "text": [
      "\n",
      "Missing Values Summary:\n",
      "id                                    0\n",
      "name                                 16\n",
      "host_id                               0\n",
      "host_name                            21\n",
      "neighbourhood_group                   0\n",
      "neighbourhood                         0\n",
      "latitude                              0\n",
      "longitude                             0\n",
      "room_type                             0\n",
      "price                                 0\n",
      "minimum_nights                        0\n",
      "number_of_reviews                     0\n",
      "last_review                       10052\n",
      "reviews_per_month                     0\n",
      "calculated_host_listings_count        0\n",
      "avalability_365                       0\n",
      "dtype: int64\n"
     ]
    }
   ],
   "source": [
    "print(\"\\nMissing Values Summary:\")\n",
    "print(data.isnull().sum())"
   ]
  },
  {
   "cell_type": "code",
   "execution_count": 8,
   "id": "a2492f34",
   "metadata": {},
   "outputs": [],
   "source": [
    "data.columns = map(str.lower, data.columns)\n"
   ]
  },
  {
   "cell_type": "code",
   "execution_count": 9,
   "id": "2744c5c4",
   "metadata": {},
   "outputs": [
    {
     "name": "stdout",
     "output_type": "stream",
     "text": [
      "\n",
      "Latitude Range: 40.49979 - 40.91306\n",
      "Longitude Range: -74.24442 - -73.71299\n"
     ]
    }
   ],
   "source": [
    "print(\"\\nLatitude Range:\", data['latitude'].min(), \"-\", data['latitude'].max())\n",
    "print(\"Longitude Range:\", data['longitude'].min(), \"-\", data['longitude'].max())\n"
   ]
  },
  {
   "cell_type": "code",
   "execution_count": 10,
   "id": "519d1149",
   "metadata": {},
   "outputs": [],
   "source": [
    "data.dropna(subset=['latitude', 'longitude'], inplace=True)"
   ]
  },
  {
   "cell_type": "code",
   "execution_count": 11,
   "id": "2cf85d4e",
   "metadata": {},
   "outputs": [],
   "source": [
    "expected_room_types = ['Entire home/apt', 'Private room', 'Shared room']\n",
    "invalid_room_types = data[~data['room_type'].isin(expected_room_types)]\n",
    "if not invalid_room_types.empty:\n",
    "    print(\"\\nInvalid Room Types Found:\")\n",
    "    print(invalid_room_types['room_type'].value_counts())"
   ]
  },
  {
   "cell_type": "code",
   "execution_count": 12,
   "id": "7991d2ae",
   "metadata": {},
   "outputs": [
    {
     "name": "stdout",
     "output_type": "stream",
     "text": [
      "\n",
      "Data cleaning completed successfully. Cleaned dataset saved as 'cleaned_dataset.csv'.\n"
     ]
    }
   ],
   "source": [
    "print(\"\\nData cleaning completed successfully. Cleaned dataset saved as 'cleaned_dataset.csv'.\")"
   ]
  },
  {
   "cell_type": "code",
   "execution_count": 13,
   "id": "5a324834",
   "metadata": {},
   "outputs": [],
   "source": [
    "categorical_columns = ['neighbourhood_group', 'neighbourhood', 'room_type']\n",
    "imputer_mode = SimpleImputer(strategy='most_frequent')\n",
    "data[categorical_columns] = imputer_mode.fit_transform(data[categorical_columns])\n"
   ]
  },
  {
   "cell_type": "code",
   "execution_count": 14,
   "id": "ae669cbb",
   "metadata": {},
   "outputs": [
    {
     "name": "stdout",
     "output_type": "stream",
     "text": [
      "\n",
      "Final Duplicate Records Summary after Elimination:\n",
      "Number of duplicate records: 0\n"
     ]
    }
   ],
   "source": [
    "data_unique = data.drop_duplicates()\n",
    "print(\"\\nFinal Duplicate Records Summary after Elimination:\")\n",
    "print(\"Number of duplicate records:\", data_unique.duplicated().sum())\n"
   ]
  },
  {
   "cell_type": "code",
   "execution_count": 15,
   "id": "d7c408a6",
   "metadata": {},
   "outputs": [],
   "source": [
    "data['price'] = data['price'].replace('[\\$,]', '', regex=True).astype(float)\n"
   ]
  },
  {
   "cell_type": "code",
   "execution_count": 16,
   "id": "2a3c4a6d",
   "metadata": {},
   "outputs": [],
   "source": [
    "z_score_threshold = 3 \n",
    "price_z_scores = (data['price'] - data['price'].mean()) / data['price'].std()\n",
    "outliers = data[abs(price_z_scores) > z_score_threshold]\n"
   ]
  },
  {
   "cell_type": "code",
   "execution_count": 17,
   "id": "edeb70b6",
   "metadata": {},
   "outputs": [],
   "source": [
    "data_no_outliers = data[abs(price_z_scores) <= z_score_threshold]\n"
   ]
  },
  {
   "cell_type": "code",
   "execution_count": 18,
   "id": "88cb6112",
   "metadata": {},
   "outputs": [],
   "source": [
    "numeric_columns = ['price', 'latitude', 'longitude', 'minimum_nights', 'number_of_reviews', 'reviews_per_month',\n",
    "                   'calculated_host_listings_count', 'avalability_365']\n",
    "scaler = StandardScaler()\n",
    "data[numeric_columns] = scaler.fit_transform(data[numeric_columns])\n"
   ]
  },
  {
   "cell_type": "code",
   "execution_count": 19,
   "id": "1675509d",
   "metadata": {},
   "outputs": [
    {
     "name": "stdout",
     "output_type": "stream",
     "text": [
      "Initial Summary Statistics:\n",
      "                 id       host_id      latitude     longitude         price  \\\n",
      "count  4.889500e+04  4.889500e+04  4.889500e+04  4.889500e+04  4.889500e+04   \n",
      "mean   1.901714e+07  6.762001e+07  3.926898e-14  1.660974e-13  3.720195e-17   \n",
      "std    1.098311e+07  7.861097e+07  1.000010e+00  1.000010e+00  1.000010e+00   \n",
      "min    2.539000e+03  2.438000e+03 -4.202474e+00 -6.331760e+00 -6.359342e-01   \n",
      "25%    9.471945e+06  7.822033e+06 -7.124376e-01 -6.694733e-01 -3.486158e-01   \n",
      "50%    1.967728e+07  3.079382e+07 -1.078110e-01 -7.605436e-02 -1.945465e-01   \n",
      "75%    2.915218e+07  1.074344e+08  6.265619e-01  3.443653e-01  9.277183e-02   \n",
      "max    3.648724e+07  2.743213e+08  3.376357e+00  5.181954e+00  4.100441e+01   \n",
      "\n",
      "       minimum_nights  number_of_reviews  reviews_per_month  \\\n",
      "count    4.889500e+04       4.889500e+04       4.889500e+04   \n",
      "mean     1.104433e-17       1.860098e-17       2.790146e-17   \n",
      "std      1.000010e+00       1.000010e+00       1.000010e+00   \n",
      "min     -2.939962e-01      -5.224332e-01      -9.101738e-01   \n",
      "25%     -2.939962e-01      -4.999866e-01      -7.299045e-01   \n",
      "50%     -1.964844e-01      -4.102001e-01      -1.023004e-01   \n",
      "75%     -9.897262e-02       1.628580e-02       1.380586e-01   \n",
      "max      6.060212e+01       1.359649e+01       3.814149e+01   \n",
      "\n",
      "       calculated_host_listings_count  avalability_365  \n",
      "count                    4.889500e+04     48895.000000  \n",
      "mean                    -1.860098e-17         0.000000  \n",
      "std                      1.000010e+00         1.000010  \n",
      "min                     -1.864514e-01        -0.856865  \n",
      "25%                     -1.864514e-01        -0.856865  \n",
      "50%                     -1.864514e-01        -0.514974  \n",
      "75%                     -1.561044e-01         0.867785  \n",
      "max                      9.706672e+00         1.916250  \n"
     ]
    }
   ],
   "source": [
    "print(\"Initial Summary Statistics:\")\n",
    "print(data.describe())"
   ]
  },
  {
   "cell_type": "code",
   "execution_count": 20,
   "id": "ccf896a4",
   "metadata": {},
   "outputs": [
    {
     "name": "stdout",
     "output_type": "stream",
     "text": [
      "\n",
      "Outliers:\n",
      "             id                                               name    host_id  \\\n",
      "61        15396                 Sunny & Spacious Chelsea Apartment      60278   \n",
      "85        19601                perfect for a family or small group      74303   \n",
      "103       23686  2000 SF 3br 2bath West Village private  townhouse      93790   \n",
      "114       26933  2 BR / 2 Bath Duplex Apt with patio! East Village      72062   \n",
      "121       27659                   3 Story Town House in Park Slope     119588   \n",
      "...         ...                                                ...        ...   \n",
      "48758  36420289    Rustic Garden House Apt, 2 stops from Manhattan   73211393   \n",
      "48833  36450896   Brand New 3-Bed Apt in the Best Location of FiDi   29741813   \n",
      "48839  36452721  Massage Spa. Stay overnight. Authors Artist dr...  274079964   \n",
      "48842  36453160  LUXURY MANHATTAN PENTHOUSE+HUDSON RIVER+EMPIRE...  224171371   \n",
      "48856  36457700  Large 3 bed, 2 bath , garden , bbq , all you need   66993395   \n",
      "\n",
      "                     host_name neighbourhood_group       neighbourhood  \\\n",
      "61                       Petra           Manhattan             Chelsea   \n",
      "85                      Maggie            Brooklyn    Brooklyn Heights   \n",
      "103                        Ann           Manhattan        West Village   \n",
      "114                      Bruce           Manhattan        East Village   \n",
      "121                       Vero            Brooklyn         South Slope   \n",
      "...                        ...                 ...                 ...   \n",
      "48758                LaGabrell              Queens    Long Island City   \n",
      "48833                      Yue           Manhattan  Financial District   \n",
      "48839                  Richard            Brooklyn      Sheepshead Bay   \n",
      "48842  LuxuryApartmentsByAmber           Manhattan             Chelsea   \n",
      "48856                   Thomas            Brooklyn  Bedford-Stuyvesant   \n",
      "\n",
      "       latitude  longitude        room_type     price  minimum_nights  \\\n",
      "61     0.316913  -0.934443  Entire home/apt  0.925579        8.433309   \n",
      "85    -0.581683  -0.877679  Entire home/apt  2.695293       -0.293996   \n",
      "103    0.036881  -1.105384  Entire home/apt  1.446083       -0.147729   \n",
      "114   -0.065082  -0.636975  Entire home/apt  0.821478       -0.245240   \n",
      "121   -1.172922  -0.586711  Entire home/apt  1.029680       -0.245240   \n",
      "...         ...        ...              ...       ...             ...   \n",
      "48758  0.479211   0.424419  Entire home/apt  0.821478       -0.245240   \n",
      "48833 -0.419935  -1.262026  Entire home/apt  1.341982       -0.245240   \n",
      "48839 -2.389327  -0.096203     Private room  2.695293       -0.293996   \n",
      "48842  0.423461  -1.099534  Entire home/apt  0.821478       -0.293996   \n",
      "48856 -0.735178   0.506532  Entire home/apt  0.800658       -0.147729   \n",
      "\n",
      "       number_of_reviews last_review  reviews_per_month  \\\n",
      "61             -0.410200   11/3/2018          -0.836731   \n",
      "85              0.038732    8/4/2016          -0.756611   \n",
      "103             0.510112   5/18/2019          -0.549635   \n",
      "114            -0.365307    8/9/2017          -0.876791   \n",
      "121            -0.163287  12/30/2018          -0.756611   \n",
      "...                  ...         ...                ...   \n",
      "48758          -0.522433         NaN           0.000000   \n",
      "48833          -0.522433         NaN           0.000000   \n",
      "48839          -0.522433         NaN           0.000000   \n",
      "48842          -0.522433         NaN           0.000000   \n",
      "48856          -0.522433         NaN           0.000000   \n",
      "\n",
      "       calculated_host_listings_count  avalability_365  \n",
      "61                          -0.186451         0.510699  \n",
      "85                          -0.186451        -0.803682  \n",
      "103                         -0.156104         0.989346  \n",
      "114                         -0.095410         1.407213  \n",
      "121                         -0.156104         0.784212  \n",
      "...                               ...              ...  \n",
      "48758                       -0.186451         1.908653  \n",
      "48833                       -0.186451        -0.370620  \n",
      "48839                       -0.186451        -0.682120  \n",
      "48842                       -0.186451        -0.788486  \n",
      "48856                       -0.125757         1.832677  \n",
      "\n",
      "[2972 rows x 16 columns]\n"
     ]
    }
   ],
   "source": [
    "Q1 = data['price'].quantile(0.25)\n",
    "Q3 = data['price'].quantile(0.75)\n",
    "IQR = Q3 - Q1\n",
    "lower_bound = Q1 - 1.5 * IQR\n",
    "upper_bound = Q3 + 1.5 * IQR\n",
    "outliers = data[(data['price'] < lower_bound) | (data['price'] > upper_bound)]\n",
    "print(\"\\nOutliers:\")\n",
    "print(outliers)"
   ]
  },
  {
   "cell_type": "code",
   "execution_count": 21,
   "id": "0d6aff8f",
   "metadata": {},
   "outputs": [],
   "source": [
    "median_price = data['price'].median()\n",
    "data['price'] = np.where((data['price'] < lower_bound) | (data['price'] > upper_bound), median_price, data['price'])\n"
   ]
  },
  {
   "cell_type": "code",
   "execution_count": 22,
   "id": "f0312a2d",
   "metadata": {},
   "outputs": [
    {
     "name": "stdout",
     "output_type": "stream",
     "text": [
      "\n",
      "Final Summary Statistics after Outlier Treatment:\n",
      "                 id       host_id      latitude     longitude         price  \\\n",
      "count  4.889500e+04  4.889500e+04  48895.000000  48895.000000  48895.000000   \n",
      "mean   1.901714e+07  6.762001e+07      0.080516      0.075016      0.161990   \n",
      "std    1.098311e+07  7.861097e+07      0.746834      0.986360      0.816429   \n",
      "min    2.539000e+03  2.438000e+03     -3.058002     -6.170317     -1.308642   \n",
      "25%    9.471945e+06  7.822033e+06     -0.451551     -0.585319     -0.456790   \n",
      "50%    1.967728e+07  3.079382e+07      0.000000      0.000000      0.000000   \n",
      "75%    2.915218e+07  1.074344e+08      0.548449      0.414681      0.543210   \n",
      "max    3.648724e+07  2.743213e+08      2.602068      5.186238      2.814815   \n",
      "\n",
      "       minimum_nights  number_of_reviews  reviews_per_month  \\\n",
      "count    48895.000000       48895.000000       48895.000000   \n",
      "mean         1.007491           0.794542           0.117863   \n",
      "std          5.127637           1.936982           1.152135   \n",
      "min         -0.500000          -0.217391          -0.930769   \n",
      "25%         -0.500000          -0.173913          -0.723077   \n",
      "50%          0.000000           0.000000           0.000000   \n",
      "75%          0.500000           0.826087           0.276923   \n",
      "max        311.750000          27.130435          44.061538   \n",
      "\n",
      "       calculated_host_listings_count  avalability_365  \n",
      "count                    48895.000000     48895.000000  \n",
      "mean                         6.143982         0.298596  \n",
      "std                         32.952519         0.579834  \n",
      "min                          0.000000        -0.198238  \n",
      "25%                          0.000000        -0.198238  \n",
      "50%                          0.000000         0.000000  \n",
      "75%                          1.000000         0.801762  \n",
      "max                        326.000000         1.409692  \n"
     ]
    }
   ],
   "source": [
    "scaler = RobustScaler()\n",
    "numeric_columns = ['price', 'latitude', 'longitude', 'minimum_nights', 'number_of_reviews', 'reviews_per_month',\n",
    "                   'calculated_host_listings_count', 'avalability_365']\n",
    "data[numeric_columns] = scaler.fit_transform(data[numeric_columns])\n",
    "print(\"\\nFinal Summary Statistics after Outlier Treatment:\")\n",
    "print(data.describe())"
   ]
  },
  {
   "cell_type": "code",
   "execution_count": 23,
   "id": "468bd513",
   "metadata": {},
   "outputs": [
    {
     "data": {
      "image/png": "[encoded data removed]",
      "text/plain": [
       "<Figure size 1000x500 with 2 Axes>"
      ]
     },
     "metadata": {},
     "output_type": "display_data"
    }
   ],
   "source": [
    "plt.figure(figsize=(10, 5))\n",
    "plt.subplot(1, 2, 1)\n",
    "plt.boxplot(data['price'], vert=False)\n",
    "plt.title('Boxplot of Price (Before Outlier Treatment)')\n",
    "plt.xlabel('Price')\n",
    "\n",
    "plt.subplot(1, 2, 2)\n",
    "plt.boxplot(data['price'], vert=False)\n",
    "plt.title('Boxplot of Price (After Outlier Treatment)')\n",
    "plt.xlabel('Price')\n",
    "\n",
    "plt.tight_layout()\n",
    "plt.show()\n"
   ]
  },
  {
   "cell_type": "code",
   "execution_count": 24,
   "id": "bff1e9bc",
   "metadata": {},
   "outputs": [
    {
     "data": {
      "image/png": "[encoded data removed]",
      "text/plain": [
       "<Figure size 1000x500 with 2 Axes>"
      ]
     },
     "metadata": {},
     "output_type": "display_data"
    }
   ],
   "source": [
    "plt.figure(figsize=(10, 5))\n",
    "plt.subplot(1, 2, 1)\n",
    "plt.hist(data['price'], bins=30, color='skyblue', edgecolor='black')\n",
    "plt.title('Histogram of Price (Before Outlier Treatment)')\n",
    "plt.xlabel('Price')\n",
    "plt.ylabel('Frequency')\n",
    "\n",
    "plt.subplot(1, 2, 2)\n",
    "plt.hist(data['price'], bins=30, color='salmon', edgecolor='black')\n",
    "plt.title('Histogram of Price (After Outlier Treatment)')\n",
    "plt.xlabel('Price')\n",
    "plt.ylabel('Frequency')\n",
    "plt.tight_layout()\n",
    "plt.show()\n"
   ]
  },
  {
   "cell_type": "code",
   "execution_count": 25,
   "id": "e95ef156",
   "metadata": {},
   "outputs": [
    {
     "data": {
      "image/png": "[encoded data removed]",
      "text/plain": [
       "<Figure size 1000x500 with 2 Axes>"
      ]
     },
     "metadata": {},
     "output_type": "display_data"
    }
   ],
   "source": [
    "plt.figure(figsize=(10, 5))\n",
    "plt.subplot(1, 2, 1)\n",
    "plt.hist(data['avalability_365'], bins=30, color='skyblue', edgecolor='black')\n",
    "plt.title('Histogram of Availability (Before Outlier Treatment)')\n",
    "plt.xlabel('Availability (in days)')\n",
    "plt.ylabel('Frequency')\n",
    "\n",
    "plt.subplot(1, 2, 2)\n",
    "plt.hist(data_no_outliers['avalability_365'], bins=30, color='salmon', edgecolor='black')\n",
    "plt.title('Histogram of Availability (After Outlier Treatment)')\n",
    "plt.xlabel('Availability (in days)')\n",
    "plt.ylabel('Frequency')\n",
    "\n",
    "plt.tight_layout()\n",
    "plt.show()\n"
   ]
  },
  {
   "cell_type": "code",
   "execution_count": null,
   "id": "e9c25310",
   "metadata": {},
   "outputs": [],
   "source": []
  }
 ],
 "metadata": {
  "kernelspec": {
   "display_name": "Python 3 (ipykernel)",
   "language": "python",
   "name": "python3"
  },
  "language_info": {
   "codemirror_mode": {
    "name": "ipython",
    "version": 3
   },
   "file_extension": ".py",
   "mimetype": "text/x-python",
   "name": "python",
   "nbconvert_exporter": "python",
   "pygments_lexer": "ipython3",
   "version": "3.11.4"
  }
 },
 "nbformat": 4,
 "nbformat_minor": 5
}
